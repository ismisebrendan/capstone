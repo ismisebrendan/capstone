{
 "cells": [
  {
   "cell_type": "code",
   "execution_count": 2,
   "metadata": {
    "executionInfo": {
     "elapsed": 4291,
     "status": "ok",
     "timestamp": 1736851557582,
     "user": {
      "displayName": "Brendan Watters",
      "userId": "01758607514073500147"
     },
     "user_tz": 0
    },
    "id": "JFB9KfGQ7ozH"
   },
   "outputs": [],
   "source": [
    "import os\n",
    "import numpy as np\n",
    "from tensorflow.keras.layers import Dense\n",
    "from tensorflow.keras.models import Sequential\n"
   ]
  },
  {
   "cell_type": "code",
   "execution_count": 3,
   "metadata": {
    "executionInfo": {
     "elapsed": 1377,
     "status": "ok",
     "timestamp": 1736851558912,
     "user": {
      "displayName": "Brendan Watters",
      "userId": "01758607514073500147"
     },
     "user_tz": 0
    },
    "id": "BERNLBDAdA4F"
   },
   "outputs": [],
   "source": [
    "# Import data\n",
    "file = './star_forming/star_forming_0_to_9_mod.txt'\n",
    "\n",
    "training_data = np.loadtxt(file)\n",
    "\n",
    "# Fitting variables\n",
    "samples = len(training_data)\n",
    "inputs = 8\n",
    "outputs = len(training_data[0]) - inputs\n"
   ]
  },
  {
   "cell_type": "code",
   "execution_count": null,
   "metadata": {
    "colab": {
     "background_save": true,
     "base_uri": "https://localhost:8080/"
    },
    "id": "Yr4bmvh97vtw"
   },
   "outputs": [],
   "source": [
    "epoch_nums = np.arange(1000, 1001, 100)\n",
    "\n",
    "for epochs in epoch_nums:\n",
    "\n",
    "    layer1 = int(np.round(np.sqrt((outputs + 2) * samples) + 2 * np.sqrt(samples / (outputs + 2))))\n",
    "    layer2 = int(np.round(outputs * np.sqrt(samples / (outputs + 2))))\n",
    "\n",
    "    print(f'{layer1} nodes in hidden layer 1')\n",
    "    print(f'{layer2} nodes in hidden layer 2')\n",
    "\n",
    "    # Create the Network using the Keras\n",
    "    model = Sequential()\n",
    "    # 8 inputs\n",
    "    model.add(Dense(inputs, activation = 'tanh', kernel_initializer='random_normal'))\n",
    "\n",
    "    # Hidden layers\n",
    "    model.add(Dense(layer1, activation = 'tanh', kernel_initializer='random_normal'))\n",
    "    model.add(Dense(layer2, activation = 'tanh', kernel_initializer='random_normal'))\n",
    "\n",
    "    # Output layer\n",
    "    model.add(Dense(outputs, activation = 'sigmoid', kernel_initializer='random_normal'))\n",
    "    model.compile(loss = 'mean_squared_error', optimizer='adam', metrics=['accuracy'])\n",
    "\n",
    "    # Train the ANN using stochastic gradient descent with a validation split of 20%\n",
    "    model.fit(training_data[:,:-outputs], training_data[:,-outputs:], epochs=epochs, batch_size=64, verbose=1, validation_split=0.2)\n",
    "\n",
    "    # Evaluate the model accuracy\n",
    "    _, accuracy = model.evaluate(training_data[:,:-outputs], training_data[:,-outputs:])\n",
    "    print(f'Accuracy: {accuracy}')\n",
    "\n",
    "\n",
    "    # Save the model\n",
    "    filepath = os.path.splitext(file)[0]\n",
    "    name = filepath.split('/')[-1]\n",
    "    name = name.split('_')[0:-4]\n",
    "    if len(name) == 1:\n",
    "        name = name[0]\n",
    "    else:\n",
    "        name = '_'.join(name)\n",
    "\n",
    "    folder = filepath.split('/')[0:-1]\n",
    "    folder = '/'.join(folder)\n",
    "    folder += '/ANNs'\n",
    "    if folder == '':\n",
    "        folder = '.'\n",
    "\n",
    "    files_present = [f for f in os.listdir(folder) if os.path.isfile(os.path.join(folder, f)) and f[:len(name)] == f'{name}' and f[-6:] == '.keras']\n",
    "\n",
    "    model.save(f'{folder}/{name}_ANN_{len(files_present)}_{epochs}.keras')\n",
    "\n",
    "    print(f'Model: {folder}/{name}_ANN_{len(files_present)}_{epochs}.keras')"
   ]
  }
 ],
 "metadata": {
  "colab": {
   "authorship_tag": "ABX9TyMZbr+aGqr2d/enoiDksCLO",
   "name": "",
   "version": ""
  },
  "kernelspec": {
   "display_name": "Python 3",
   "name": "python3"
  },
  "language_info": {
   "name": "python"
  }
 },
 "nbformat": 4,
 "nbformat_minor": 0
}
